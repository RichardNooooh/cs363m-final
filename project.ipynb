{
 "cells": [
  {
   "cell_type": "code",
   "execution_count": null,
   "metadata": {},
   "outputs": [],
   "source": [
    "raw_data.head(10)"
   ]
  },
  {
   "cell_type": "code",
   "execution_count": 1,
   "metadata": {},
   "outputs": [],
   "source": [
    "import pandas as pd\n",
    "import numpy as np"
   ]
  },
  {
   "cell_type": "code",
   "execution_count": 2,
   "metadata": {},
   "outputs": [
    {
     "data": {
      "text/plain": [
       "(5110, 11)"
      ]
     },
     "execution_count": 2,
     "metadata": {},
     "output_type": "execute_result"
    }
   ],
   "source": [
    "# read in data\n",
    "raw_data = pd.read_csv(\"healthcare-dataset-stroke-data.csv\")\n",
    "raw_data = raw_data.drop(\"id\", axis=1)\n",
    "raw_data.shape"
   ]
  },
  {
   "cell_type": "markdown",
   "metadata": {},
   "source": [
    "### Data Cleaning and Preparation"
   ]
  },
  {
   "cell_type": "markdown",
   "metadata": {},
   "source": [
    "The data appears to have \"Unknowns\" in the smoking_status column."
   ]
  },
  {
   "cell_type": "code",
   "execution_count": null,
   "metadata": {},
   "outputs": [],
   "source": [
    "\n",
    "# TODO Display the percentage of data that has \"Unknown\" smoking_status\n",
    "# TODO \n",
    "# TODO Display the percentage of the data with NaN bmi\n",
    "\n"
   ]
  },
  {
   "cell_type": "markdown",
   "metadata": {},
   "source": [
    "We begin by looking at the number of missing values there are in the dataset."
   ]
  },
  {
   "cell_type": "code",
   "execution_count": 4,
   "metadata": {},
   "outputs": [
    {
     "data": {
      "text/plain": [
       "gender                 0\n",
       "age                    0\n",
       "hypertension           0\n",
       "heart_disease          0\n",
       "ever_married           0\n",
       "work_type              0\n",
       "Residence_type         0\n",
       "avg_glucose_level      0\n",
       "bmi                  201\n",
       "smoking_status         0\n",
       "stroke                 0\n",
       "dtype: int64"
      ]
     },
     "execution_count": 4,
     "metadata": {},
     "output_type": "execute_result"
    }
   ],
   "source": [
    "raw_data.isnull().sum()"
   ]
  },
  {
   "cell_type": "markdown",
   "metadata": {},
   "source": [
    "Let us observe the distribution of the data before and after we drop the null values in the BMI column."
   ]
  },
  {
   "cell_type": "code",
   "execution_count": 5,
   "metadata": {},
   "outputs": [],
   "source": [
    "dropped_data = raw_data.dropna(axis=0, subset=\"bmi\") # TODO "
   ]
  },
  {
   "cell_type": "code",
   "execution_count": 6,
   "metadata": {},
   "outputs": [
    {
     "name": "stdout",
     "output_type": "stream",
     "text": [
      "19.522088353413654\n",
      "22.48803827751196\n"
     ]
    }
   ],
   "source": [
    "# distribution of stroke label before and after\n",
    "raw_stroke_counts = raw_data.loc[:, \"stroke\"].value_counts()\n",
    "dropped_stroke_counts = dropped_data.loc[:, \"stroke\"].value_counts()\n",
    "\n",
    "print(raw_stroke_counts[0] / raw_stroke_counts[1])\n",
    "print(dropped_stroke_counts[0] / dropped_stroke_counts[1])"
   ]
  },
  {
   "cell_type": "code",
   "execution_count": 7,
   "metadata": {},
   "outputs": [
    {
     "name": "stdout",
     "output_type": "stream",
     "text": [
      "9.261044176706827\n",
      "9.88470066518847\n"
     ]
    }
   ],
   "source": [
    "raw_hyper_counts = raw_data.loc[:, \"hypertension\"].value_counts()\n",
    "dropped_hyper_counts = dropped_data.loc[:, \"hypertension\"].value_counts()\n",
    "\n",
    "print(raw_hyper_counts[0] / raw_hyper_counts[1])\n",
    "print(dropped_hyper_counts[0] / dropped_hyper_counts[1])\n"
   ]
  },
  {
   "cell_type": "code",
   "execution_count": 8,
   "metadata": {},
   "outputs": [
    {
     "data": {
      "text/plain": [
       "<AxesSubplot:title={'center':'Distribution of Smoking Status Before Dropped Data'}>"
      ]
     },
     "execution_count": 8,
     "metadata": {},
     "output_type": "execute_result"
    },
    {
     "data": {
      "image/png": "[encoded data removed]",
      "text/plain": [
       "<Figure size 432x288 with 1 Axes>"
      ]
     },
     "metadata": {
      "needs_background": "light"
     },
     "output_type": "display_data"
    }
   ],
   "source": [
    "raw_data.loc[:, \"smoking_status\"].value_counts().plot(kind=\"bar\", title=\"Distribution of Smoking Status Before Dropped Data\")"
   ]
  },
  {
   "cell_type": "code",
   "execution_count": 9,
   "metadata": {},
   "outputs": [
    {
     "data": {
      "text/plain": [
       "<AxesSubplot:title={'center':'Distribution of Smoking Status After Dropped Data'}>"
      ]
     },
     "execution_count": 9,
     "metadata": {},
     "output_type": "execute_result"
    },
    {
     "data": {
      "image/png": "[encoded data removed]",
      "text/plain": [
       "<Figure size 432x288 with 1 Axes>"
      ]
     },
     "metadata": {
      "needs_background": "light"
     },
     "output_type": "display_data"
    }
   ],
   "source": [
    "dropped_data.loc[:, \"smoking_status\"].value_counts().plot(kind=\"bar\", title=\"Distribution of Smoking Status After Dropped Data\")"
   ]
  },
  {
   "cell_type": "code",
   "execution_count": 16,
   "metadata": {},
   "outputs": [],
   "source": [
    "binary_data_x = pd.get_dummies(dropped_data.iloc[:, :10], columns=[\"ever_married\", \"Residence_type\"], drop_first=True)\n",
    "data_X = pd.get_dummies(binary_data_x, columns=[\"gender\", \"work_type\", \"smoking_status\"])\n",
    "data_Y = dropped_data.iloc[:, 10].values.ravel()\n"
   ]
  },
  {
   "cell_type": "code",
   "execution_count": 18,
   "metadata": {},
   "outputs": [
    {
     "name": "stdout",
     "output_type": "stream",
     "text": [
      "Accuracy:  0.018099547511312215\n",
      "              precision    recall  f1-score   support\n",
      "\n",
      "           0       0.96      1.00      0.98      4700\n",
      "           1       0.17      0.01      0.02       209\n",
      "\n",
      "    accuracy                           0.96      4909\n",
      "   macro avg       0.56      0.50      0.50      4909\n",
      "weighted avg       0.92      0.96      0.94      4909\n",
      "\n"
     ]
    }
   ],
   "source": [
    "from sklearn.model_selection import GridSearchCV\n",
    "from sklearn.model_selection import cross_val_predict\n",
    "from sklearn.preprocessing import StandardScaler\n",
    "from sklearn.decomposition import PCA\n",
    "from sklearn.svm import SVC\n",
    "from sklearn.pipeline import Pipeline\n",
    "from sklearn.metrics import f1_score\n",
    "from sklearn.metrics import classification_report\n",
    "\n",
    "scaler = StandardScaler()\n",
    "pca = PCA()\n",
    "clf = SVC()\n",
    "pipeline = Pipeline([(\"scaler\", scaler),\n",
    "                     (\"pca\", pca),\n",
    "                     (\"svm\", clf)])\n",
    "\n",
    "param_grid = {\n",
    "    \"pca__n_components\": list(range(5, 20)),\n",
    "    \"svm__kernel\": [\"linear\", \"rbf\", \"poly\"]\n",
    "}\n",
    "\n",
    "grid_search = GridSearchCV(pipeline, param_grid, cv=5, scoring=\"f1\")\n",
    "pred_Y = cross_val_predict(grid_search, data_X, data_Y, cv=10)\n",
    "\n",
    "print(\"Accuracy: \", f1_score(data_Y, pred_Y))\n",
    "print(classification_report(data_Y, pred_Y))"
   ]
  }
 ],
 "metadata": {
  "kernelspec": {
   "display_name": "Python 3.10.4 ('machine-learning')",
   "language": "python",
   "name": "python3"
  },
  "language_info": {
   "codemirror_mode": {
    "name": "ipython",
    "version": 3
   },
   "file_extension": ".py",
   "mimetype": "text/x-python",
   "name": "python",
   "nbconvert_exporter": "python",
   "pygments_lexer": "ipython3",
   "version": "3.10.4"
  },
  "orig_nbformat": 4,
  "vscode": {
   "interpreter": {
    "hash": "9a10b75b13b63061da04faadf70cb55ed4f5e17420fe42c4fa79f85e69cc3529"
   }
  }
 },
 "nbformat": 4,
 "nbformat_minor": 2
}
